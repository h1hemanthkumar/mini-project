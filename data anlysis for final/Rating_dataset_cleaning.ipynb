{
 "cells": [
  {
   "cell_type": "markdown",
   "id": "e8f40815-6ccb-4685-bcdb-866d8d8a4587",
   "metadata": {},
   "source": [
    "# Data Cleaning for Movie Dataset"
   ]
  },
  {
   "cell_type": "code",
   "execution_count": 1,
   "id": "60f34b55-e7ca-4aed-a499-8dcdd57c3589",
   "metadata": {},
   "outputs": [],
   "source": [
    "import numpy as np\n",
    "import pandas as pd\n",
    "import matplotlib.pyplot as plt"
   ]
  },
  {
   "cell_type": "code",
   "execution_count": 3,
   "id": "96fcf241-a19b-400b-9a49-e2a75b72a3cb",
   "metadata": {},
   "outputs": [],
   "source": [
    "rating_data=pd.read_csv(\"ratings.csv\")"
   ]
  },
  {
   "cell_type": "code",
   "execution_count": 4,
   "id": "ee20227f-9151-4712-9679-88846a10a9d9",
   "metadata": {},
   "outputs": [
    {
     "data": {
      "text/html": [
       "<div>\n",
       "<style scoped>\n",
       "    .dataframe tbody tr th:only-of-type {\n",
       "        vertical-align: middle;\n",
       "    }\n",
       "\n",
       "    .dataframe tbody tr th {\n",
       "        vertical-align: top;\n",
       "    }\n",
       "\n",
       "    .dataframe thead th {\n",
       "        text-align: right;\n",
       "    }\n",
       "</style>\n",
       "<table border=\"1\" class=\"dataframe\">\n",
       "  <thead>\n",
       "    <tr style=\"text-align: right;\">\n",
       "      <th></th>\n",
       "      <th>rating_id</th>\n",
       "      <th>user_id</th>\n",
       "      <th>movie_id</th>\n",
       "      <th>rating</th>\n",
       "      <th>review_date</th>\n",
       "    </tr>\n",
       "  </thead>\n",
       "  <tbody>\n",
       "    <tr>\n",
       "      <th>0</th>\n",
       "      <td>R10001</td>\n",
       "      <td>15004</td>\n",
       "      <td>1137</td>\n",
       "      <td>4.0</td>\n",
       "      <td>2024-11-01</td>\n",
       "    </tr>\n",
       "    <tr>\n",
       "      <th>1</th>\n",
       "      <td>R10002</td>\n",
       "      <td>15017</td>\n",
       "      <td>1208</td>\n",
       "      <td>4.5</td>\n",
       "      <td>2024-11-01</td>\n",
       "    </tr>\n",
       "    <tr>\n",
       "      <th>2</th>\n",
       "      <td>R10003</td>\n",
       "      <td>15000</td>\n",
       "      <td>1433</td>\n",
       "      <td>4.0</td>\n",
       "      <td>2024-11-01</td>\n",
       "    </tr>\n",
       "    <tr>\n",
       "      <th>3</th>\n",
       "      <td>R10004</td>\n",
       "      <td>15021</td>\n",
       "      <td>2701</td>\n",
       "      <td>3.5</td>\n",
       "      <td>2024-11-01</td>\n",
       "    </tr>\n",
       "    <tr>\n",
       "      <th>4</th>\n",
       "      <td>R10005</td>\n",
       "      <td>15035</td>\n",
       "      <td>3710</td>\n",
       "      <td>4.5</td>\n",
       "      <td>2024-11-02</td>\n",
       "    </tr>\n",
       "    <tr>\n",
       "      <th>5</th>\n",
       "      <td>R10006</td>\n",
       "      <td>15001</td>\n",
       "      <td>1125</td>\n",
       "      <td>5.0</td>\n",
       "      <td>2024-11-02</td>\n",
       "    </tr>\n",
       "    <tr>\n",
       "      <th>6</th>\n",
       "      <td>R10007</td>\n",
       "      <td>15002</td>\n",
       "      <td>269</td>\n",
       "      <td>4.0</td>\n",
       "      <td>2024-11-02</td>\n",
       "    </tr>\n",
       "    <tr>\n",
       "      <th>7</th>\n",
       "      <td>R10008</td>\n",
       "      <td>15021</td>\n",
       "      <td>2754</td>\n",
       "      <td>4.5</td>\n",
       "      <td>2024-11-02</td>\n",
       "    </tr>\n",
       "    <tr>\n",
       "      <th>8</th>\n",
       "      <td>R10009</td>\n",
       "      <td>15004</td>\n",
       "      <td>2289</td>\n",
       "      <td>5.0</td>\n",
       "      <td>2024-11-02</td>\n",
       "    </tr>\n",
       "    <tr>\n",
       "      <th>9</th>\n",
       "      <td>R10010</td>\n",
       "      <td>15019</td>\n",
       "      <td>431</td>\n",
       "      <td>4.5</td>\n",
       "      <td>2024-11-02</td>\n",
       "    </tr>\n",
       "  </tbody>\n",
       "</table>\n",
       "</div>"
      ],
      "text/plain": [
       "  rating_id  user_id  movie_id  rating review_date\n",
       "0    R10001    15004      1137     4.0  2024-11-01\n",
       "1    R10002    15017      1208     4.5  2024-11-01\n",
       "2    R10003    15000      1433     4.0  2024-11-01\n",
       "3    R10004    15021      2701     3.5  2024-11-01\n",
       "4    R10005    15035      3710     4.5  2024-11-02\n",
       "5    R10006    15001      1125     5.0  2024-11-02\n",
       "6    R10007    15002       269     4.0  2024-11-02\n",
       "7    R10008    15021      2754     4.5  2024-11-02\n",
       "8    R10009    15004      2289     5.0  2024-11-02\n",
       "9    R10010    15019       431     4.5  2024-11-02"
      ]
     },
     "execution_count": 4,
     "metadata": {},
     "output_type": "execute_result"
    }
   ],
   "source": [
    "rating_data.head(10)"
   ]
  },
  {
   "cell_type": "code",
   "execution_count": 7,
   "id": "eb5d4e4c-85ed-4369-b64c-a36cd17bc174",
   "metadata": {},
   "outputs": [
    {
     "data": {
      "text/plain": [
       "rating\n",
       " 4.500000        6311\n",
       " 5.000000        6277\n",
       " 4.000000        5271\n",
       " 3.500000        3239\n",
       " 3.000000        2046\n",
       " 2.500000        1304\n",
       " 2.000000         756\n",
       " 1.500000         361\n",
       " 1.000000         261\n",
       " 11.000000         80\n",
       " 0.144758          76\n",
       "-1.000000          75\n",
       "-468.000000        75\n",
       " 15000.000000      73\n",
       "-5.000000          71\n",
       " 3.158917          70\n",
       " 14.000000         68\n",
       " 4.126476          66\n",
       " 15.000000         60\n",
       "Name: count, dtype: int64"
      ]
     },
     "execution_count": 7,
     "metadata": {},
     "output_type": "execute_result"
    }
   ],
   "source": [
    "rating_data['rating'].value_counts()"
   ]
  },
  {
   "cell_type": "code",
   "execution_count": 13,
   "id": "d317a042-f5e7-4900-b6af-c0cc91dde1c7",
   "metadata": {},
   "outputs": [],
   "source": [
    "rating_data['rating']=rating_data['rating'].apply(lambda x: 5 if x>5 else x)\n",
    "rating_data['rating']=rating_data['rating'].apply(lambda x: 0 if x<0 else x)"
   ]
  },
  {
   "cell_type": "markdown",
   "id": "004546cb-d814-4650-8ddb-d44ce95688f5",
   "metadata": {},
   "source": [
    "### replacing the values that are greater than 5 with 5 and then less than 0 is replace with 0 because of invalid data so we replaced"
   ]
  },
  {
   "cell_type": "code",
   "execution_count": 14,
   "id": "7f56e711-b33a-4046-bcc8-491e910f03a4",
   "metadata": {},
   "outputs": [
    {
     "data": {
      "text/plain": [
       "rating\n",
       "5.000000    6558\n",
       "4.500000    6311\n",
       "4.000000    5271\n",
       "3.500000    3239\n",
       "3.000000    2046\n",
       "2.500000    1304\n",
       "2.000000     756\n",
       "1.500000     361\n",
       "1.000000     261\n",
       "0.000000     221\n",
       "0.144758      76\n",
       "3.158917      70\n",
       "4.126476      66\n",
       "Name: count, dtype: int64"
      ]
     },
     "execution_count": 14,
     "metadata": {},
     "output_type": "execute_result"
    }
   ],
   "source": [
    "rating_data['rating'].value_counts()"
   ]
  },
  {
   "cell_type": "code",
   "execution_count": 16,
   "id": "2871db89-08a0-4ffb-86ea-c5ceba934741",
   "metadata": {},
   "outputs": [],
   "source": [
    "rating_data['rating'] = rating_data['rating'].apply(\n",
    "    lambda x: round(x * 2) / 2 if pd.notna(x) else x\n",
    ")"
   ]
  },
  {
   "cell_type": "markdown",
   "id": "05dc4c46-6aa3-4085-bfd6-e2899602bde5",
   "metadata": {},
   "source": [
    "### replacing the values or decimal with the 1 1.5 2 2.5 3 3.5 4 4.5 5 "
   ]
  },
  {
   "cell_type": "code",
   "execution_count": 17,
   "id": "aaeb67e8-a349-4f67-a9d2-343151a52335",
   "metadata": {},
   "outputs": [
    {
     "data": {
      "text/plain": [
       "rating\n",
       "5.0    6558\n",
       "4.5    6311\n",
       "4.0    5337\n",
       "3.5    3239\n",
       "3.0    2116\n",
       "2.5    1304\n",
       "2.0     756\n",
       "1.5     361\n",
       "0.0     297\n",
       "1.0     261\n",
       "Name: count, dtype: int64"
      ]
     },
     "execution_count": 17,
     "metadata": {},
     "output_type": "execute_result"
    }
   ],
   "source": [
    "rating_data['rating'].value_counts()"
   ]
  },
  {
   "cell_type": "code",
   "execution_count": 19,
   "id": "fc2a38cb-efbd-448e-9cb2-a3f732f72578",
   "metadata": {},
   "outputs": [
    {
     "data": {
      "text/plain": [
       "212"
      ]
     },
     "execution_count": 19,
     "metadata": {},
     "output_type": "execute_result"
    }
   ],
   "source": [
    "rating_data['rating'].isna().sum()"
   ]
  },
  {
   "cell_type": "code",
   "execution_count": 27,
   "id": "d2a100a6-e643-435e-9b3a-df4eb1590f4d",
   "metadata": {},
   "outputs": [
    {
     "data": {
      "text/plain": [
       "3.986412230861244"
      ]
     },
     "execution_count": 27,
     "metadata": {},
     "output_type": "execute_result"
    }
   ],
   "source": [
    "rating_data['rating'].mean()"
   ]
  },
  {
   "cell_type": "code",
   "execution_count": 23,
   "id": "1308128e-09d6-4c02-955e-06941780c7e6",
   "metadata": {},
   "outputs": [],
   "source": [
    "rating_data['rating'] = rating_data['rating'].fillna(rating_data['rating'].mean())"
   ]
  },
  {
   "cell_type": "code",
   "execution_count": 24,
   "id": "974ce437-6d82-4dfe-8b3c-6a4544726478",
   "metadata": {},
   "outputs": [],
   "source": [
    "rating_data['rating'] = rating_data['rating'].apply(\n",
    "    lambda x: round(x * 2) / 2 if pd.notna(x) else x\n",
    ")"
   ]
  },
  {
   "cell_type": "code",
   "execution_count": 25,
   "id": "5e9a5581-81ee-4a3a-964c-1e41bab1ef87",
   "metadata": {},
   "outputs": [
    {
     "data": {
      "text/plain": [
       "rating\n",
       "5.0    6558\n",
       "4.5    6311\n",
       "4.0    5549\n",
       "3.5    3239\n",
       "3.0    2116\n",
       "2.5    1304\n",
       "2.0     756\n",
       "1.5     361\n",
       "0.0     297\n",
       "1.0     261\n",
       "Name: count, dtype: int64"
      ]
     },
     "execution_count": 25,
     "metadata": {},
     "output_type": "execute_result"
    }
   ],
   "source": [
    "rating_data['rating'].value_counts()"
   ]
  },
  {
   "cell_type": "code",
   "execution_count": 26,
   "id": "9b854667-2d7c-487d-9694-427a877ef6ca",
   "metadata": {},
   "outputs": [
    {
     "data": {
      "text/plain": [
       "0"
      ]
     },
     "execution_count": 26,
     "metadata": {},
     "output_type": "execute_result"
    }
   ],
   "source": [
    "rating_data['rating'].isna().sum()"
   ]
  },
  {
   "cell_type": "markdown",
   "id": "be026ae7-2d0c-4ee3-81e9-ad777807df2c",
   "metadata": {},
   "source": [
    "### replaced all the null value with the average value"
   ]
  },
  {
   "cell_type": "code",
   "execution_count": 29,
   "id": "fb743d4b-9d0f-437a-b659-7469f7a9a9a0",
   "metadata": {},
   "outputs": [],
   "source": [
    "rating_data.to_csv(\"rating_modified.csv\",index=False)"
   ]
  }
 ],
 "metadata": {
  "kernelspec": {
   "display_name": "Python 3 (ipykernel)",
   "language": "python",
   "name": "python3"
  },
  "language_info": {
   "codemirror_mode": {
    "name": "ipython",
    "version": 3
   },
   "file_extension": ".py",
   "mimetype": "text/x-python",
   "name": "python",
   "nbconvert_exporter": "python",
   "pygments_lexer": "ipython3",
   "version": "3.12.10"
  }
 },
 "nbformat": 4,
 "nbformat_minor": 5
}
