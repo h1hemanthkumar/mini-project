{
 "cells": [
  {
   "cell_type": "code",
   "execution_count": 1,
   "id": "8d00b33c-ca9a-4efb-ab03-924c99a5d753",
   "metadata": {},
   "outputs": [],
   "source": [
    "import pandas as pd\n",
    "import numpy as np\n",
    "import matplotlib.pyplot as plt"
   ]
  },
  {
   "cell_type": "code",
   "execution_count": 2,
   "id": "b4e9cbe9-00fe-453f-a02f-fb83a0b8f6b7",
   "metadata": {},
   "outputs": [],
   "source": [
    "movies_data=pd.read_csv(\"Movie_modified.csv\")\n",
    "rating_data=pd.read_csv(\"rating_modified.csv\")\n",
    "df=pd.read_csv(\"subscription_modified.csv\")\n",
    "users=pd.read_csv(\"user_modified.csv\")\n",
    "watch_history=pd.read_csv(\"watch_history_modified.csv\")"
   ]
  },
  {
   "cell_type": "code",
   "execution_count": 3,
   "id": "253c1ebe-d3e4-40d7-9ea0-0c0993d04fa6",
   "metadata": {},
   "outputs": [],
   "source": [
    "merged_df = watch_history.merge(movies_data, on='movie_id')"
   ]
  },
  {
   "cell_type": "code",
   "execution_count": 11,
   "id": "fc8916dc-aa9b-4fcc-b423-170cb1e09254",
   "metadata": {},
   "outputs": [
    {
     "name": "stdout",
     "output_type": "stream",
     "text": [
      "genre\n",
      "action       910924.0\n",
      "crime        868477.0\n",
      "romance      768924.0\n",
      "adventure    758871.0\n",
      "fantasy      723741.0\n",
      "biography    691580.0\n",
      "scifi        674186.0\n",
      "mystery      540928.0\n",
      "family       525778.0\n",
      "sports       523232.0\n",
      "horror       517825.0\n",
      "history      447274.0\n",
      "animation    418675.0\n",
      "thriller     366914.0\n",
      "war          353246.0\n",
      "Name: watch_duration, dtype: float64\n"
     ]
    }
   ],
   "source": [
    "genre_watch = merged_df.groupby('genre')['watch_duration'].sum().sort_values(ascending=False)\n",
    "print(genre_watch)"
   ]
  },
  {
   "cell_type": "code",
   "execution_count": 15,
   "id": "42ecd197-7120-40c3-8a50-c1291d451faf",
   "metadata": {},
   "outputs": [
    {
     "name": "stdout",
     "output_type": "stream",
     "text": [
      "✅ Model trained on all data. Self-accuracy: 0.5000\n"
     ]
    },
    {
     "name": "stderr",
     "output_type": "stream",
     "text": [
      "C:\\Users\\heman\\AppData\\Local\\Packages\\PythonSoftwareFoundation.Python.3.12_qbz5n2kfra8p0\\LocalCache\\local-packages\\Python312\\site-packages\\xgboost\\training.py:183: UserWarning: [22:44:41] WARNING: C:\\actions-runner\\_work\\xgboost\\xgboost\\src\\learner.cc:738: \n",
      "Parameters: { \"use_label_encoder\" } are not used.\n",
      "\n",
      "  bst.update(dtrain, iteration=i, fobj=obj)\n"
     ]
    }
   ],
   "source": [
    "import pandas as pd\n",
    "import xgboost as xgb\n",
    "from sklearn.preprocessing import LabelEncoder\n",
    "from sklearn.metrics import accuracy_score\n",
    "\n",
    "# Merge datasets\n",
    "merged_df = watch_history.merge(movies_data, on='movie_id')\n",
    "\n",
    "# Convert date & extract year\n",
    "merged_df['watch_date'] = pd.to_datetime(merged_df['watch_date'])\n",
    "merged_df['watch_year'] = merged_df['watch_date'].dt.year\n",
    "\n",
    "# Aggregate by genre and year\n",
    "genre_yearly = merged_df.groupby(['watch_year', 'genre'])['watch_duration'].sum().reset_index()\n",
    "\n",
    "# Get most-watched genre per year\n",
    "top_genre_per_year = genre_yearly.loc[\n",
    "    genre_yearly.groupby('watch_year')['watch_duration'].idxmax()\n",
    "].reset_index(drop=True)\n",
    "\n",
    "# Prepare features\n",
    "X = top_genre_per_year[['watch_year']]\n",
    "y = top_genre_per_year['genre']\n",
    "\n",
    "# Encode target\n",
    "le = LabelEncoder()\n",
    "y_encoded = le.fit_transform(y)\n",
    "\n",
    "# Train model on entire data\n",
    "model = xgb.XGBClassifier(use_label_encoder=False, eval_metric='mlogloss')\n",
    "model.fit(X, y_encoded)\n",
    "\n",
    "# Accuracy (optional: self-evaluation)\n",
    "y_pred = model.predict(X)\n",
    "acc = accuracy_score(y_encoded, y_pred)\n",
    "print(f\"✅ Model trained on all data. Self-accuracy: {acc:.4f}\")\n"
   ]
  }
 ],
 "metadata": {
  "kernelspec": {
   "display_name": "Python 3 (ipykernel)",
   "language": "python",
   "name": "python3"
  },
  "language_info": {
   "codemirror_mode": {
    "name": "ipython",
    "version": 3
   },
   "file_extension": ".py",
   "mimetype": "text/x-python",
   "name": "python",
   "nbconvert_exporter": "python",
   "pygments_lexer": "ipython3",
   "version": "3.12.10"
  }
 },
 "nbformat": 4,
 "nbformat_minor": 5
}
