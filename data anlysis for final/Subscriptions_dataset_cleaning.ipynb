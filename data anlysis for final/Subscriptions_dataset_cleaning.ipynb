{
 "cells": [
  {
   "cell_type": "code",
   "execution_count": 2,
   "id": "f66b34eb-a4fd-4c10-9150-c64458f6dabb",
   "metadata": {},
   "outputs": [],
   "source": [
    "import pandas as pd\n",
    "import matplotlib.pyplot as plt\n",
    "import numpy as np"
   ]
  },
  {
   "cell_type": "code",
   "execution_count": 3,
   "id": "40186916-0ede-427a-91fe-bd2298e60a4e",
   "metadata": {},
   "outputs": [],
   "source": [
    "subscription=pd.read_csv(\"subscriptions.csv\")"
   ]
  },
  {
   "cell_type": "code",
   "execution_count": 4,
   "id": "acac5eea-dd96-410a-88d5-846e8702a2dc",
   "metadata": {},
   "outputs": [
    {
     "data": {
      "text/html": [
       "<div>\n",
       "<style scoped>\n",
       "    .dataframe tbody tr th:only-of-type {\n",
       "        vertical-align: middle;\n",
       "    }\n",
       "\n",
       "    .dataframe tbody tr th {\n",
       "        vertical-align: top;\n",
       "    }\n",
       "\n",
       "    .dataframe thead th {\n",
       "        text-align: right;\n",
       "    }\n",
       "</style>\n",
       "<table border=\"1\" class=\"dataframe\">\n",
       "  <thead>\n",
       "    <tr style=\"text-align: right;\">\n",
       "      <th></th>\n",
       "      <th>payment_id</th>\n",
       "      <th>user_id</th>\n",
       "      <th>amount</th>\n",
       "      <th>payment_date</th>\n",
       "      <th>plan_type</th>\n",
       "      <th>valid_until</th>\n",
       "      <th>churn_status</th>\n",
       "      <th>renewed</th>\n",
       "    </tr>\n",
       "  </thead>\n",
       "  <tbody>\n",
       "    <tr>\n",
       "      <th>0</th>\n",
       "      <td>T67951961023</td>\n",
       "      <td>15000</td>\n",
       "      <td>12.99</td>\n",
       "      <td>2024-11-01</td>\n",
       "      <td>Premium</td>\n",
       "      <td>2024-12-31</td>\n",
       "      <td>active</td>\n",
       "      <td>True</td>\n",
       "    </tr>\n",
       "    <tr>\n",
       "      <th>1</th>\n",
       "      <td>T68965430008</td>\n",
       "      <td>15000</td>\n",
       "      <td>12.99</td>\n",
       "      <td>2025-01-05</td>\n",
       "      <td>Premium</td>\n",
       "      <td>2025-03-06</td>\n",
       "      <td>active</td>\n",
       "      <td>True</td>\n",
       "    </tr>\n",
       "    <tr>\n",
       "      <th>2</th>\n",
       "      <td>T56296958896</td>\n",
       "      <td>15000</td>\n",
       "      <td>7.99</td>\n",
       "      <td>2025-03-08</td>\n",
       "      <td>Standard</td>\n",
       "      <td>2025-04-07</td>\n",
       "      <td>active</td>\n",
       "      <td>True</td>\n",
       "    </tr>\n",
       "    <tr>\n",
       "      <th>3</th>\n",
       "      <td>T77025305054</td>\n",
       "      <td>15001</td>\n",
       "      <td>7.99</td>\n",
       "      <td>2024-11-01</td>\n",
       "      <td>Standard</td>\n",
       "      <td>2024-12-01</td>\n",
       "      <td>active</td>\n",
       "      <td>True</td>\n",
       "    </tr>\n",
       "    <tr>\n",
       "      <th>4</th>\n",
       "      <td>T73938493845</td>\n",
       "      <td>15001</td>\n",
       "      <td>7.99</td>\n",
       "      <td>2024-12-04</td>\n",
       "      <td>Standard</td>\n",
       "      <td>2025-01-03</td>\n",
       "      <td>churned</td>\n",
       "      <td>False</td>\n",
       "    </tr>\n",
       "    <tr>\n",
       "      <th>5</th>\n",
       "      <td>T80595234029</td>\n",
       "      <td>15002</td>\n",
       "      <td>12.99</td>\n",
       "      <td>2024-11-01</td>\n",
       "      <td>Premium</td>\n",
       "      <td>2024-12-31</td>\n",
       "      <td>active</td>\n",
       "      <td>True</td>\n",
       "    </tr>\n",
       "    <tr>\n",
       "      <th>6</th>\n",
       "      <td>T73954774255</td>\n",
       "      <td>15002</td>\n",
       "      <td>12.99</td>\n",
       "      <td>2025-01-01</td>\n",
       "      <td>Premium</td>\n",
       "      <td>2025-03-02</td>\n",
       "      <td>active</td>\n",
       "      <td>True</td>\n",
       "    </tr>\n",
       "    <tr>\n",
       "      <th>7</th>\n",
       "      <td>T61837475327</td>\n",
       "      <td>15002</td>\n",
       "      <td>7.99</td>\n",
       "      <td>2025-03-04</td>\n",
       "      <td>Standard</td>\n",
       "      <td>2025-04-03</td>\n",
       "      <td>active</td>\n",
       "      <td>True</td>\n",
       "    </tr>\n",
       "    <tr>\n",
       "      <th>8</th>\n",
       "      <td>T71978840752</td>\n",
       "      <td>15003</td>\n",
       "      <td>12.99</td>\n",
       "      <td>2024-11-01</td>\n",
       "      <td>Premium</td>\n",
       "      <td>2024-12-31</td>\n",
       "      <td>active</td>\n",
       "      <td>True</td>\n",
       "    </tr>\n",
       "    <tr>\n",
       "      <th>9</th>\n",
       "      <td>T71946924698</td>\n",
       "      <td>15003</td>\n",
       "      <td>12.99</td>\n",
       "      <td>2025-01-01</td>\n",
       "      <td>Premium</td>\n",
       "      <td>2025-03-02</td>\n",
       "      <td>active</td>\n",
       "      <td>True</td>\n",
       "    </tr>\n",
       "  </tbody>\n",
       "</table>\n",
       "</div>"
      ],
      "text/plain": [
       "     payment_id  user_id  amount payment_date plan_type valid_until  \\\n",
       "0  T67951961023    15000   12.99   2024-11-01   Premium  2024-12-31   \n",
       "1  T68965430008    15000   12.99   2025-01-05   Premium  2025-03-06   \n",
       "2  T56296958896    15000    7.99   2025-03-08  Standard  2025-04-07   \n",
       "3  T77025305054    15001    7.99   2024-11-01  Standard  2024-12-01   \n",
       "4  T73938493845    15001    7.99   2024-12-04  Standard  2025-01-03   \n",
       "5  T80595234029    15002   12.99   2024-11-01   Premium  2024-12-31   \n",
       "6  T73954774255    15002   12.99   2025-01-01   Premium  2025-03-02   \n",
       "7  T61837475327    15002    7.99   2025-03-04  Standard  2025-04-03   \n",
       "8  T71978840752    15003   12.99   2024-11-01   Premium  2024-12-31   \n",
       "9  T71946924698    15003   12.99   2025-01-01   Premium  2025-03-02   \n",
       "\n",
       "  churn_status  renewed  \n",
       "0       active     True  \n",
       "1       active     True  \n",
       "2       active     True  \n",
       "3       active     True  \n",
       "4      churned    False  \n",
       "5       active     True  \n",
       "6       active     True  \n",
       "7       active     True  \n",
       "8       active     True  \n",
       "9       active     True  "
      ]
     },
     "execution_count": 4,
     "metadata": {},
     "output_type": "execute_result"
    }
   ],
   "source": [
    "subscription.head(10)"
   ]
  },
  {
   "cell_type": "code",
   "execution_count": 5,
   "id": "4afa3ab7-0e54-4c0d-9fa1-f736bc569c8b",
   "metadata": {},
   "outputs": [
    {
     "data": {
      "text/plain": [
       "plan_type\n",
       "Standard        1817\n",
       "Student Plan    1288\n",
       "Premium         1284\n",
       "Name: count, dtype: int64"
      ]
     },
     "execution_count": 5,
     "metadata": {},
     "output_type": "execute_result"
    }
   ],
   "source": [
    "subscription['plan_type'].value_counts()"
   ]
  },
  {
   "cell_type": "code",
   "execution_count": 6,
   "id": "64cdac23-ad1b-4322-b506-8b1ddeae3989",
   "metadata": {},
   "outputs": [
    {
     "data": {
      "text/plain": [
       "amount\n",
       " 7.990000     1794\n",
       " 4.990000     1271\n",
       " 12.990000    1258\n",
       "-5.990000       23\n",
       " 3.141689       19\n",
       "-1.000000       13\n",
       " 2.899822       11\n",
       "Name: count, dtype: int64"
      ]
     },
     "execution_count": 6,
     "metadata": {},
     "output_type": "execute_result"
    }
   ],
   "source": [
    "subscription['amount'].value_counts()"
   ]
  },
  {
   "cell_type": "code",
   "execution_count": 7,
   "id": "f3b54238-cacf-4f3d-bb08-83f4b6d49c0f",
   "metadata": {},
   "outputs": [],
   "source": [
    "subscription['amount'] = subscription['plan_type'].apply(\n",
    "    lambda x: 7.99 if x == 'Standard' else 12.99 if x == 'Premium' else 4.99\n",
    ")"
   ]
  },
  {
   "cell_type": "code",
   "execution_count": 8,
   "id": "fad83627-82b5-4c5f-a158-dcfea0068790",
   "metadata": {},
   "outputs": [
    {
     "data": {
      "text/plain": [
       "amount\n",
       "7.99     1817\n",
       "4.99     1288\n",
       "12.99    1284\n",
       "Name: count, dtype: int64"
      ]
     },
     "execution_count": 8,
     "metadata": {},
     "output_type": "execute_result"
    }
   ],
   "source": [
    "subscription['amount'].value_counts()"
   ]
  },
  {
   "cell_type": "code",
   "execution_count": 9,
   "id": "30927245-ebec-476f-8d97-a8a847daf54d",
   "metadata": {},
   "outputs": [
    {
     "data": {
      "text/plain": [
       "<Axes: xlabel='plan_type'>"
      ]
     },
     "execution_count": 9,
     "metadata": {},
     "output_type": "execute_result"
    },
    {
     "data": {
      "image/png": "[encoded data removed]",
      "text/plain": [
       "<Figure size 640x480 with 1 Axes>"
      ]
     },
     "metadata": {},
     "output_type": "display_data"
    }
   ],
   "source": [
    "subscription['plan_type'].value_counts().plot(kind='bar')"
   ]
  },
  {
   "cell_type": "markdown",
   "id": "93de2fe4-a94d-4120-a504-2ab190f13367",
   "metadata": {},
   "source": [
    "### hence we can have more number of standard then other"
   ]
  },
  {
   "cell_type": "code",
   "execution_count": 10,
   "id": "8ecef2ff-2a43-4904-81bc-89b72fffd1eb",
   "metadata": {},
   "outputs": [],
   "source": [
    "subscription['valid_until'] = pd.to_datetime(subscription['valid_until'])\n",
    "subscription['payment_date'] = pd.to_datetime(subscription['payment_date'])\n",
    "subscription['validity_days'] = (subscription['valid_until'] - subscription['payment_date']).dt.days"
   ]
  },
  {
   "cell_type": "code",
   "execution_count": 11,
   "id": "ba57742d-a3ec-4645-a36a-9dc840fa6f6b",
   "metadata": {},
   "outputs": [
    {
     "data": {
      "text/html": [
       "<div>\n",
       "<style scoped>\n",
       "    .dataframe tbody tr th:only-of-type {\n",
       "        vertical-align: middle;\n",
       "    }\n",
       "\n",
       "    .dataframe tbody tr th {\n",
       "        vertical-align: top;\n",
       "    }\n",
       "\n",
       "    .dataframe thead th {\n",
       "        text-align: right;\n",
       "    }\n",
       "</style>\n",
       "<table border=\"1\" class=\"dataframe\">\n",
       "  <thead>\n",
       "    <tr style=\"text-align: right;\">\n",
       "      <th></th>\n",
       "      <th>payment_id</th>\n",
       "      <th>user_id</th>\n",
       "      <th>amount</th>\n",
       "      <th>payment_date</th>\n",
       "      <th>plan_type</th>\n",
       "      <th>valid_until</th>\n",
       "      <th>churn_status</th>\n",
       "      <th>renewed</th>\n",
       "      <th>validity_days</th>\n",
       "    </tr>\n",
       "  </thead>\n",
       "  <tbody>\n",
       "    <tr>\n",
       "      <th>0</th>\n",
       "      <td>T67951961023</td>\n",
       "      <td>15000</td>\n",
       "      <td>12.99</td>\n",
       "      <td>2024-11-01</td>\n",
       "      <td>Premium</td>\n",
       "      <td>2024-12-31</td>\n",
       "      <td>active</td>\n",
       "      <td>True</td>\n",
       "      <td>60</td>\n",
       "    </tr>\n",
       "    <tr>\n",
       "      <th>1</th>\n",
       "      <td>T68965430008</td>\n",
       "      <td>15000</td>\n",
       "      <td>12.99</td>\n",
       "      <td>2025-01-05</td>\n",
       "      <td>Premium</td>\n",
       "      <td>2025-03-06</td>\n",
       "      <td>active</td>\n",
       "      <td>True</td>\n",
       "      <td>60</td>\n",
       "    </tr>\n",
       "    <tr>\n",
       "      <th>2</th>\n",
       "      <td>T56296958896</td>\n",
       "      <td>15000</td>\n",
       "      <td>7.99</td>\n",
       "      <td>2025-03-08</td>\n",
       "      <td>Standard</td>\n",
       "      <td>2025-04-07</td>\n",
       "      <td>active</td>\n",
       "      <td>True</td>\n",
       "      <td>30</td>\n",
       "    </tr>\n",
       "    <tr>\n",
       "      <th>3</th>\n",
       "      <td>T77025305054</td>\n",
       "      <td>15001</td>\n",
       "      <td>7.99</td>\n",
       "      <td>2024-11-01</td>\n",
       "      <td>Standard</td>\n",
       "      <td>2024-12-01</td>\n",
       "      <td>active</td>\n",
       "      <td>True</td>\n",
       "      <td>30</td>\n",
       "    </tr>\n",
       "    <tr>\n",
       "      <th>4</th>\n",
       "      <td>T73938493845</td>\n",
       "      <td>15001</td>\n",
       "      <td>7.99</td>\n",
       "      <td>2024-12-04</td>\n",
       "      <td>Standard</td>\n",
       "      <td>2025-01-03</td>\n",
       "      <td>churned</td>\n",
       "      <td>False</td>\n",
       "      <td>30</td>\n",
       "    </tr>\n",
       "    <tr>\n",
       "      <th>5</th>\n",
       "      <td>T80595234029</td>\n",
       "      <td>15002</td>\n",
       "      <td>12.99</td>\n",
       "      <td>2024-11-01</td>\n",
       "      <td>Premium</td>\n",
       "      <td>2024-12-31</td>\n",
       "      <td>active</td>\n",
       "      <td>True</td>\n",
       "      <td>60</td>\n",
       "    </tr>\n",
       "    <tr>\n",
       "      <th>6</th>\n",
       "      <td>T73954774255</td>\n",
       "      <td>15002</td>\n",
       "      <td>12.99</td>\n",
       "      <td>2025-01-01</td>\n",
       "      <td>Premium</td>\n",
       "      <td>2025-03-02</td>\n",
       "      <td>active</td>\n",
       "      <td>True</td>\n",
       "      <td>60</td>\n",
       "    </tr>\n",
       "    <tr>\n",
       "      <th>7</th>\n",
       "      <td>T61837475327</td>\n",
       "      <td>15002</td>\n",
       "      <td>7.99</td>\n",
       "      <td>2025-03-04</td>\n",
       "      <td>Standard</td>\n",
       "      <td>2025-04-03</td>\n",
       "      <td>active</td>\n",
       "      <td>True</td>\n",
       "      <td>30</td>\n",
       "    </tr>\n",
       "    <tr>\n",
       "      <th>8</th>\n",
       "      <td>T71978840752</td>\n",
       "      <td>15003</td>\n",
       "      <td>12.99</td>\n",
       "      <td>2024-11-01</td>\n",
       "      <td>Premium</td>\n",
       "      <td>2024-12-31</td>\n",
       "      <td>active</td>\n",
       "      <td>True</td>\n",
       "      <td>60</td>\n",
       "    </tr>\n",
       "    <tr>\n",
       "      <th>9</th>\n",
       "      <td>T71946924698</td>\n",
       "      <td>15003</td>\n",
       "      <td>12.99</td>\n",
       "      <td>2025-01-01</td>\n",
       "      <td>Premium</td>\n",
       "      <td>2025-03-02</td>\n",
       "      <td>active</td>\n",
       "      <td>True</td>\n",
       "      <td>60</td>\n",
       "    </tr>\n",
       "  </tbody>\n",
       "</table>\n",
       "</div>"
      ],
      "text/plain": [
       "     payment_id  user_id  amount payment_date plan_type valid_until  \\\n",
       "0  T67951961023    15000   12.99   2024-11-01   Premium  2024-12-31   \n",
       "1  T68965430008    15000   12.99   2025-01-05   Premium  2025-03-06   \n",
       "2  T56296958896    15000    7.99   2025-03-08  Standard  2025-04-07   \n",
       "3  T77025305054    15001    7.99   2024-11-01  Standard  2024-12-01   \n",
       "4  T73938493845    15001    7.99   2024-12-04  Standard  2025-01-03   \n",
       "5  T80595234029    15002   12.99   2024-11-01   Premium  2024-12-31   \n",
       "6  T73954774255    15002   12.99   2025-01-01   Premium  2025-03-02   \n",
       "7  T61837475327    15002    7.99   2025-03-04  Standard  2025-04-03   \n",
       "8  T71978840752    15003   12.99   2024-11-01   Premium  2024-12-31   \n",
       "9  T71946924698    15003   12.99   2025-01-01   Premium  2025-03-02   \n",
       "\n",
       "  churn_status  renewed  validity_days  \n",
       "0       active     True             60  \n",
       "1       active     True             60  \n",
       "2       active     True             30  \n",
       "3       active     True             30  \n",
       "4      churned    False             30  \n",
       "5       active     True             60  \n",
       "6       active     True             60  \n",
       "7       active     True             30  \n",
       "8       active     True             60  \n",
       "9       active     True             60  "
      ]
     },
     "execution_count": 11,
     "metadata": {},
     "output_type": "execute_result"
    }
   ],
   "source": [
    "subscription.head(10)"
   ]
  },
  {
   "cell_type": "code",
   "execution_count": 12,
   "id": "1c6d8b12-69c2-4759-ba80-0de8bc5374a3",
   "metadata": {},
   "outputs": [
    {
     "data": {
      "text/plain": [
       "validity_days\n",
       "30    3105\n",
       "60    1284\n",
       "Name: count, dtype: int64"
      ]
     },
     "execution_count": 12,
     "metadata": {},
     "output_type": "execute_result"
    }
   ],
   "source": [
    "subscription['validity_days'].value_counts()"
   ]
  },
  {
   "cell_type": "code",
   "execution_count": 13,
   "id": "009952da-cafa-403d-9d69-52e0ba515c7c",
   "metadata": {},
   "outputs": [],
   "source": [
    "subscription.drop_duplicates(inplace=True)"
   ]
  },
  {
   "cell_type": "code",
   "execution_count": 14,
   "id": "20a1c1d4-6676-4583-b8ec-902d694189e0",
   "metadata": {},
   "outputs": [],
   "source": [
    "subscription.to_csv(\"subscription_modified.csv\",index=False)"
   ]
  }
 ],
 "metadata": {
  "kernelspec": {
   "display_name": "Python 3 (ipykernel)",
   "language": "python",
   "name": "python3"
  },
  "language_info": {
   "codemirror_mode": {
    "name": "ipython",
    "version": 3
   },
   "file_extension": ".py",
   "mimetype": "text/x-python",
   "name": "python",
   "nbconvert_exporter": "python",
   "pygments_lexer": "ipython3",
   "version": "3.12.10"
  }
 },
 "nbformat": 4,
 "nbformat_minor": 5
}
