{
 "cells": [
  {
   "cell_type": "markdown",
   "id": "a909411e-f8fc-4fc3-9199-9cfad28cb85c",
   "metadata": {},
   "source": [
    "# Data cleaning for Movies table"
   ]
  },
  {
   "cell_type": "code",
   "execution_count": 1,
   "id": "5a6c18dd-f27d-4cef-9cfc-43141cee778e",
   "metadata": {},
   "outputs": [],
   "source": [
    "import pandas as pd\n",
    "import numpy as np\n",
    "import matplotlib.pyplot as plt"
   ]
  },
  {
   "cell_type": "code",
   "execution_count": 2,
   "id": "73a709c5-787a-48dc-a85c-ddef5c510bf9",
   "metadata": {},
   "outputs": [],
   "source": [
    "movies_data=pd.read_csv(\"movies.csv\");"
   ]
  },
  {
   "cell_type": "code",
   "execution_count": 3,
   "id": "9b8b79d6-64d3-47e5-aded-b74abc447787",
   "metadata": {},
   "outputs": [
    {
     "data": {
      "text/html": [
       "<div>\n",
       "<style scoped>\n",
       "    .dataframe tbody tr th:only-of-type {\n",
       "        vertical-align: middle;\n",
       "    }\n",
       "\n",
       "    .dataframe tbody tr th {\n",
       "        vertical-align: top;\n",
       "    }\n",
       "\n",
       "    .dataframe thead th {\n",
       "        text-align: right;\n",
       "    }\n",
       "</style>\n",
       "<table border=\"1\" class=\"dataframe\">\n",
       "  <thead>\n",
       "    <tr style=\"text-align: right;\">\n",
       "      <th></th>\n",
       "      <th>movie_id</th>\n",
       "      <th>title</th>\n",
       "      <th>release_year</th>\n",
       "      <th>runtime</th>\n",
       "      <th>genre</th>\n",
       "    </tr>\n",
       "  </thead>\n",
       "  <tbody>\n",
       "    <tr>\n",
       "      <th>0</th>\n",
       "      <td>1</td>\n",
       "      <td>Black Panther: Wakanda Forever</td>\n",
       "      <td>2022.0</td>\n",
       "      <td>161</td>\n",
       "      <td>action</td>\n",
       "    </tr>\n",
       "    <tr>\n",
       "      <th>1</th>\n",
       "      <td>2</td>\n",
       "      <td>Avatar: The Way of Water</td>\n",
       "      <td>2022.0</td>\n",
       "      <td>192</td>\n",
       "      <td>action</td>\n",
       "    </tr>\n",
       "    <tr>\n",
       "      <th>2</th>\n",
       "      <td>3</td>\n",
       "      <td>Plane</td>\n",
       "      <td>2023.0</td>\n",
       "      <td>107</td>\n",
       "      <td>action</td>\n",
       "    </tr>\n",
       "    <tr>\n",
       "      <th>3</th>\n",
       "      <td>4</td>\n",
       "      <td>Everything Everywhere All at Once</td>\n",
       "      <td>2022.0</td>\n",
       "      <td>139</td>\n",
       "      <td>action</td>\n",
       "    </tr>\n",
       "    <tr>\n",
       "      <th>4</th>\n",
       "      <td>5</td>\n",
       "      <td>Ant-Man and the Wasp: Quantumania</td>\n",
       "      <td>2023.0</td>\n",
       "      <td>125</td>\n",
       "      <td>action</td>\n",
       "    </tr>\n",
       "  </tbody>\n",
       "</table>\n",
       "</div>"
      ],
      "text/plain": [
       "   movie_id                              title  release_year  runtime   genre\n",
       "0         1     Black Panther: Wakanda Forever        2022.0      161  action\n",
       "1         2           Avatar: The Way of Water        2022.0      192  action\n",
       "2         3                              Plane        2023.0      107  action\n",
       "3         4  Everything Everywhere All at Once        2022.0      139  action\n",
       "4         5  Ant-Man and the Wasp: Quantumania        2023.0      125  action"
      ]
     },
     "execution_count": 3,
     "metadata": {},
     "output_type": "execute_result"
    }
   ],
   "source": [
    "movies_data.head(5)"
   ]
  },
  {
   "cell_type": "code",
   "execution_count": 4,
   "id": "9bb6d8a0-3b36-496e-acb9-0585ffd26477",
   "metadata": {},
   "outputs": [
    {
     "name": "stdout",
     "output_type": "stream",
     "text": [
      "genre\n",
      "scifi        411\n",
      "action       394\n",
      "crime        361\n",
      "adventure    360\n",
      "fantasy      334\n",
      "romance      331\n",
      "family       326\n",
      "animation    322\n",
      "biography    247\n",
      "horror       246\n",
      "mystery      230\n",
      "sports       198\n",
      "history      162\n",
      "thriller     159\n",
      "war          148\n",
      "Name: count, dtype: int64\n"
     ]
    }
   ],
   "source": [
    "print(movies_data['genre'].value_counts());"
   ]
  },
  {
   "cell_type": "markdown",
   "id": "374a126b-b8f4-4288-bd1d-521f1c037206",
   "metadata": {},
   "source": [
    "#### we conclude that scifi movies are more in the dataset "
   ]
  },
  {
   "cell_type": "code",
   "execution_count": 33,
   "id": "0e029b74-7b8c-4185-98e1-8316c19021e1",
   "metadata": {},
   "outputs": [
    {
     "data": {
      "text/plain": [
       "0"
      ]
     },
     "execution_count": 33,
     "metadata": {},
     "output_type": "execute_result"
    }
   ],
   "source": [
    "movies_data['genre'].isna().sum()"
   ]
  },
  {
   "cell_type": "markdown",
   "id": "0cfe302b-0854-4966-88b5-8de0c04dc283",
   "metadata": {},
   "source": [
    "#### hence we conclude that there is no null value in the genre column "
   ]
  },
  {
   "cell_type": "code",
   "execution_count": 24,
   "id": "873d0f0f-fc5f-4078-80a6-74a31c6199ba",
   "metadata": {},
   "outputs": [
    {
     "data": {
      "text/plain": [
       "release_year\n",
       "2022.0    486\n",
       "2021.0    238\n",
       "2019.0    192\n",
       "2018.0    172\n",
       "2017.0    172\n",
       "         ... \n",
       "1944.0      1\n",
       "1938.0      1\n",
       "1952.0      1\n",
       "1927.0      1\n",
       "1930.0      1\n",
       "Name: count, Length: 86, dtype: int64"
      ]
     },
     "execution_count": 24,
     "metadata": {},
     "output_type": "execute_result"
    }
   ],
   "source": [
    "movies_data['release_year'].value_counts()"
   ]
  },
  {
   "cell_type": "code",
   "execution_count": 35,
   "id": "900867bf-c9cf-4839-95d2-c9e4de44dc10",
   "metadata": {},
   "outputs": [
    {
     "data": {
      "text/plain": [
       "<matplotlib.collections.PathCollection at 0x1fe9d5ef9b0>"
      ]
     },
     "execution_count": 35,
     "metadata": {},
     "output_type": "execute_result"
    },
    {
     "data": {
      "image/png": "[encoded data removed]",
      "text/plain": [
       "<Figure size 640x480 with 1 Axes>"
      ]
     },
     "metadata": {},
     "output_type": "display_data"
    }
   ],
   "source": [
    "plt.scatter(movies_data['release_year'],movies_data['genre'])"
   ]
  },
  {
   "cell_type": "markdown",
   "id": "e8730d85-9e22-4c11-95ab-2991f4510333",
   "metadata": {},
   "source": [
    " ### it is being observed that the movies most of them are from 1980 to 2022 so from some years to 1980 and then they are outliers but still we can't remove it because of data lossing "
   ]
  },
  {
   "cell_type": "code",
   "execution_count": 36,
   "id": "1117a27e-0739-4d4b-bb96-1ee43b9191b7",
   "metadata": {},
   "outputs": [
    {
     "data": {
      "text/plain": [
       "1"
      ]
     },
     "execution_count": 36,
     "metadata": {},
     "output_type": "execute_result"
    }
   ],
   "source": [
    "movies_data['release_year'].isna().sum()"
   ]
  },
  {
   "cell_type": "code",
   "execution_count": 37,
   "id": "aca31c34-3593-4a29-b821-841f01bdac83",
   "metadata": {},
   "outputs": [
    {
     "data": {
      "text/plain": [
       "(4229, 5)"
      ]
     },
     "execution_count": 37,
     "metadata": {},
     "output_type": "execute_result"
    }
   ],
   "source": [
    "movies_data.shape"
   ]
  },
  {
   "cell_type": "code",
   "execution_count": 51,
   "id": "a8287454-ad6e-46f0-8aee-253e22800e93",
   "metadata": {},
   "outputs": [],
   "source": [
    "movies_data.dropna(subset=['release_year'],inplace=True)"
   ]
  },
  {
   "cell_type": "code",
   "execution_count": 52,
   "id": "d93ccc6b-3c72-48b9-b127-725152d2e273",
   "metadata": {},
   "outputs": [
    {
     "data": {
      "text/plain": [
       "0"
      ]
     },
     "execution_count": 52,
     "metadata": {},
     "output_type": "execute_result"
    }
   ],
   "source": [
    "movies_data['release_year'].isna().sum()"
   ]
  },
  {
   "cell_type": "markdown",
   "id": "867dd1b0-c0d1-45ef-b05b-546478a7ae49",
   "metadata": {},
   "source": [
    "### We removed null row from the data set by taking the reference of release year because there was only one null data"
   ]
  },
  {
   "cell_type": "code",
   "execution_count": 55,
   "id": "8b5d3356-6343-442a-9bf5-c361180cca47",
   "metadata": {},
   "outputs": [
    {
     "data": {
      "text/plain": [
       "runtime\n",
       "107    110\n",
       "100    107\n",
       "95     105\n",
       "102    102\n",
       "105     95\n",
       "      ... \n",
       "229      1\n",
       "174      1\n",
       "72       1\n",
       "46       1\n",
       "185      1\n",
       "Name: count, Length: 135, dtype: int64"
      ]
     },
     "execution_count": 55,
     "metadata": {},
     "output_type": "execute_result"
    }
   ],
   "source": [
    "movies_data['runtime'].value_counts()"
   ]
  },
  {
   "cell_type": "code",
   "execution_count": 59,
   "id": "948b6731-ec25-4630-aadf-5f9104dbc7fe",
   "metadata": {},
   "outputs": [
    {
     "data": {
      "text/plain": [
       "movie_id\n",
       "1       1\n",
       "2826    1\n",
       "2812    1\n",
       "2813    1\n",
       "2814    1\n",
       "       ..\n",
       "1415    1\n",
       "1416    1\n",
       "1417    1\n",
       "1418    1\n",
       "4229    1\n",
       "Name: count, Length: 4228, dtype: int64"
      ]
     },
     "execution_count": 59,
     "metadata": {},
     "output_type": "execute_result"
    }
   ],
   "source": [
    "movies_data['movie_id'].value_counts()"
   ]
  },
  {
   "cell_type": "code",
   "execution_count": 62,
   "id": "d93c1315-9926-46ce-a25b-eb4ff487ae2b",
   "metadata": {},
   "outputs": [],
   "source": [
    "movies_data.drop_duplicates(inplace=True)"
   ]
  },
  {
   "cell_type": "code",
   "execution_count": 64,
   "id": "461db645-c153-4195-ae01-e7104795fce8",
   "metadata": {},
   "outputs": [
    {
     "data": {
      "text/plain": [
       "(4228, 5)"
      ]
     },
     "execution_count": 64,
     "metadata": {},
     "output_type": "execute_result"
    }
   ],
   "source": [
    "movies_data.shape"
   ]
  },
  {
   "cell_type": "markdown",
   "id": "88564389-25a4-40ef-be98-46d8a680bd12",
   "metadata": {},
   "source": [
    "### movie_data is cleaned"
   ]
  },
  {
   "cell_type": "code",
   "execution_count": 63,
   "id": "f42dd5c7-6b09-475f-802e-134604d2afb7",
   "metadata": {},
   "outputs": [],
   "source": [
    "movies_data.to_csv(\"Movie_modified.csv\",index=False)"
   ]
  }
 ],
 "metadata": {
  "kernelspec": {
   "display_name": "Python 3 (ipykernel)",
   "language": "python",
   "name": "python3"
  },
  "language_info": {
   "codemirror_mode": {
    "name": "ipython",
    "version": 3
   },
   "file_extension": ".py",
   "mimetype": "text/x-python",
   "name": "python",
   "nbconvert_exporter": "python",
   "pygments_lexer": "ipython3",
   "version": "3.12.10"
  }
 },
 "nbformat": 4,
 "nbformat_minor": 5
}
